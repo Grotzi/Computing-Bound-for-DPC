{
 "cells": [
  {
   "cell_type": "code",
   "execution_count": 1,
   "metadata": {},
   "outputs": [],
   "source": [
    "import numpy as np\n",
    "import gurobipy as gp\n",
    "from gurobipy import GRB"
   ]
  },
  {
   "cell_type": "code",
   "execution_count": 2,
   "metadata": {},
   "outputs": [],
   "source": [
    "teams = 8\n",
    "placements = 5\n",
    "\n",
    "r = (500, 300, 200, 100, 50) # points awarded for tour 3\n",
    "\n",
    "teamnames = ['beastcoast', 'EG', 'Thunder Awaken', 'Infinity', 'Infamous', 'Hokori', 'Mad Kings', 'Balrogs']\n",
    "c = (700, 970, 143, 80, 32, 60, 0, 0) # current DPC points (after Berlin Major)"
   ]
  },
  {
   "cell_type": "code",
   "execution_count": 3,
   "metadata": {},
   "outputs": [
    {
     "name": "stdout",
     "output_type": "stream",
     "text": [
      "Set parameter Username\n",
      "Academic license - for non-commercial use only - expires 2023-06-21\n"
     ]
    }
   ],
   "source": [
    "model = gp.Model('Example 3: DPC SA 2023 Tour 3 Division I') # initialize model\n",
    "\n",
    "# define variables\n",
    "x = model.addMVar((teams, placements), vtype=GRB.BINARY, name=\"regional league decision variables\") \n",
    "d = model.addMVar((teams), vtype=GRB.INTEGER, name=\"DPC points\") \n",
    "q = model.addMVar((teams), vtype=GRB.BINARY, name=\"is qualified for Bali\") # bool if team is qualified for the last major\n",
    "\n",
    "# formulate constraints\n",
    "for t in range(teams):\n",
    "    model.addConstr(x[t, :].sum() <= 1)\n",
    "    model.addConstr(q[t] == x[t,0] + x[t,1], \"Bali_qual_constr\")\n",
    "    model.addConstr(d[t] == (gp.quicksum((x[t,p]*r[p]) for p in range(placements))) + c[t] )\n",
    "                    \n",
    "for p in range(placements):                 \n",
    "    model.addConstr(x[:, p].sum() == 1)"
   ]
  },
  {
   "cell_type": "code",
   "execution_count": 4,
   "metadata": {},
   "outputs": [
    {
     "name": "stdout",
     "output_type": "stream",
     "text": [
      "Gurobi Optimizer version 9.5.0 build v9.5.0rc5 (win64)\n",
      "Thread count: 4 physical cores, 4 logical processors, using up to 4 threads\n",
      "Optimize a model with 29 rows, 56 columns and 152 nonzeros\n",
      "Model fingerprint: 0xa351db1f\n",
      "Variable types: 0 continuous, 56 integer (48 binary)\n",
      "Coefficient statistics:\n",
      "  Matrix range     [1e+00, 5e+02]\n",
      "  Objective range  [1e+00, 1e+00]\n",
      "  Bounds range     [1e+00, 1e+00]\n",
      "  RHS range        [1e+00, 1e+03]\n",
      "Presolve removed 16 rows and 16 columns\n",
      "Presolve time: 0.00s\n",
      "Presolved: 13 rows, 40 columns, 80 nonzeros\n",
      "Variable types: 0 continuous, 40 integer (40 binary)\n",
      "\n",
      "Root relaxation: objective 1.470000e+03, 9 iterations, 0.00 seconds (0.00 work units)\n",
      "\n",
      "    Nodes    |    Current Node    |     Objective Bounds      |     Work\n",
      " Expl Unexpl |  Obj  Depth IntInf | Incumbent    BestBd   Gap | It/Node Time\n",
      "\n",
      "*    0     0               0    1470.0000000 1470.00000  0.00%     -    0s\n",
      "\n",
      "Explored 1 nodes (9 simplex iterations) in 0.02 seconds (0.00 work units)\n",
      "Thread count was 4 (of 4 available processors)\n",
      "\n",
      "Solution count 1: 1470 \n",
      "\n",
      "Optimal solution found (tolerance 1.00e-04)\n",
      "Best objective 1.470000000000e+03, best bound 1.470000000000e+03, gap 0.0000%\n"
     ]
    }
   ],
   "source": [
    "model.setObjective(d[1], GRB.MAXIMIZE) # define objective function, here we maximize EGs points as an example\n",
    "model.optimize() # solve"
   ]
  },
  {
   "cell_type": "code",
   "execution_count": 5,
   "metadata": {},
   "outputs": [
    {
     "name": "stdout",
     "output_type": "stream",
     "text": [
      "beastcoast, 800.0 points\n",
      "EG, 1470.0 points\n",
      "Thunder Awaken, 143.0 points\n",
      "Infinity, 80.0 points\n",
      "Infamous, 332.0 points\n",
      "Hokori, 60.0 points\n",
      "Mad Kings, 50.0 points\n",
      "Balrogs, 200.0 points\n"
     ]
    }
   ],
   "source": [
    "for t in range(teams): # results\n",
    "    print('%s, %s points' % (teamnames[t], d.X[t]))"
   ]
  },
  {
   "cell_type": "code",
   "execution_count": 6,
   "metadata": {},
   "outputs": [
    {
     "data": {
      "text/plain": [
       "array([[0, 0, 0, 1, 0],\n",
       "       [1, 0, 0, 0, 0],\n",
       "       [0, 0, 0, 0, 0],\n",
       "       [0, 0, 0, 0, 0],\n",
       "       [0, 1, 0, 0, 0],\n",
       "       [0, 0, 0, 0, 0],\n",
       "       [0, 0, 0, 0, 1],\n",
       "       [0, 0, 1, 0, 0]])"
      ]
     },
     "execution_count": 6,
     "metadata": {},
     "output_type": "execute_result"
    }
   ],
   "source": [
    "x.X.astype(int) # evaluate matrix of decision variables"
   ]
  }
 ],
 "metadata": {
  "kernelspec": {
   "display_name": "Python 3",
   "language": "python",
   "name": "python3"
  },
  "language_info": {
   "codemirror_mode": {
    "name": "ipython",
    "version": 3
   },
   "file_extension": ".py",
   "mimetype": "text/x-python",
   "name": "python",
   "nbconvert_exporter": "python",
   "pygments_lexer": "ipython3",
   "version": "3.8.0"
  }
 },
 "nbformat": 4,
 "nbformat_minor": 5
}
